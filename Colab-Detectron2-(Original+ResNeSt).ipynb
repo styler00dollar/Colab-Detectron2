{
  "nbformat": 4,
  "nbformat_minor": 0,
  "metadata": {
    "colab": {
      "name": "Colab-Detectron2-(Original+ResNeSt).ipynb",
      "provenance": [],
      "private_outputs": true,
      "collapsed_sections": [],
      "toc_visible": true
    },
    "kernelspec": {
      "name": "python3",
      "display_name": "Python 3"
    },
    "accelerator": "GPU"
  },
  "cells": [
    {
      "cell_type": "markdown",
      "metadata": {
        "id": "QHnVupBBn9eR",
        "colab_type": "text"
      },
      "source": [
        "# Detectron2 (Original+ResNeSt)\n",
        "\n",
        "<img src=\"https://dl.fbaipublicfiles.com/detectron2/Detectron2-Logo-Horz.png\" width=\"500\">\n",
        "\n",
        "This is a modification of the offiical detectron2 colab that can be found [here](https://colab.research.google.com/drive/16jcaJoc6bCFAQ96jDe2HwtXj7BMD_-m5 ).\n",
        "\n",
        "This colab is a combination of [facebookresearch/detectron2](https://github.com/facebookresearch/detectron2) and [zhanghang1989/detectron2-ResNeSt](https://github.com/zhanghang1989/detectron2-ResNeSt).\n",
        "\n",
        "My fork is located in [styler00dollar/Colab-Detectron2-with-Original-and-ResNeSt](https://github.com/styler00dollar/Colab-Detectron2-with-Original-and-ResNeSt).\n",
        "\n",
        "You might need to edit some paths or parameter to fit your needs. This assumes you know what you are doing.\n"
      ]
    },
    {
      "cell_type": "code",
      "metadata": {
        "id": "_MZbDQNfx2DB",
        "colab_type": "code",
        "colab": {},
        "cellView": "form"
      },
      "source": [
        "#@title check gpu\n",
        "!nvidia-smi"
      ],
      "execution_count": null,
      "outputs": []
    },
    {
      "cell_type": "code",
      "metadata": {
        "id": "zljLQ5Ij1VQo",
        "colab_type": "code",
        "colab": {},
        "cellView": "form"
      },
      "source": [
        "#@title check amount of files in folder (specify path)\n",
        "%cd \"/path/\"\n",
        "!ls | wc -l"
      ],
      "execution_count": null,
      "outputs": []
    },
    {
      "cell_type": "code",
      "metadata": {
        "id": "2s7SaYMYYQHF",
        "colab_type": "code",
        "colab": {},
        "cellView": "form"
      },
      "source": [
        "#@title connect Google Drive if you want to copy dataset\n",
        "from google.colab import drive\n",
        "drive.mount('/content/drive')"
      ],
      "execution_count": null,
      "outputs": []
    },
    {
      "cell_type": "markdown",
      "metadata": {
        "id": "vM54r6jlKTII",
        "colab_type": "text"
      },
      "source": [
        "# Install detectron2"
      ]
    },
    {
      "cell_type": "code",
      "metadata": {
        "id": "9_FzH13EjseR",
        "colab_type": "code",
        "cellView": "form",
        "colab": {}
      },
      "source": [
        "#@title Install dependencies\n",
        "# install dependencies: (use cu101 because colab has CUDA 10.1)\n",
        "!pip install -U torch==1.5 torchvision==0.6 -f https://download.pytorch.org/whl/cu101/torch_stable.html \n",
        "!pip install cython pyyaml==5.1\n",
        "!pip install -U 'git+https://github.com/cocodataset/cocoapi.git#subdirectory=PythonAPI'\n",
        "import torch, torchvision\n",
        "print(torch.__version__, torch.cuda.is_available())\n",
        "!gcc --version\n",
        "# opencv is pre-installed on colab"
      ],
      "execution_count": null,
      "outputs": []
    },
    {
      "cell_type": "markdown",
      "metadata": {
        "id": "zuPhNcoNc6bG",
        "colab_type": "text"
      },
      "source": [
        "# Install detectron2 or detectron2-ResNeSt"
      ]
    },
    {
      "cell_type": "code",
      "metadata": {
        "id": "b-i4hmGYk1dL",
        "colab_type": "code",
        "cellView": "form",
        "colab": {}
      },
      "source": [
        "#@title Install detectron2\n",
        "%cd /content/\n",
        "# install detectron2:\n",
        "!pip install detectron2==0.2 -f https://dl.fbaipublicfiles.com/detectron2/wheels/cu101/torch1.5/index.html\n",
        "# git clone detectron2\n",
        "!git clone https://github.com/facebookresearch/detectron2"
      ],
      "execution_count": null,
      "outputs": []
    },
    {
      "cell_type": "code",
      "metadata": {
        "id": "ImwNQz6BvWsk",
        "colab_type": "code",
        "cellView": "form",
        "colab": {}
      },
      "source": [
        "#@title Install detectron2-ResNeSt\n",
        "%cd /content/\n",
        "# install detectron resnest\n",
        "!python -m pip install 'git+https://github.com/zhanghang1989/detectron2-ResNeSt.git'\n",
        "import detectron2\n",
        "\n",
        "# clone detectron2 resnest\n",
        "%cd /content/\n",
        "!git clone https://github.com/zhanghang1989/detectron2-ResNeSt"
      ],
      "execution_count": null,
      "outputs": []
    },
    {
      "cell_type": "code",
      "metadata": {
        "id": "ZyAvNCJMmvFF",
        "colab_type": "code",
        "cellView": "form",
        "colab": {}
      },
      "source": [
        "#@title Import detectron2\n",
        "\n",
        "# You may need to restart your runtime prior to this, to let your installation take effect\n",
        "# Some basic setup:\n",
        "# Setup detectron2 logger\n",
        "import detectron2\n",
        "from detectron2.utils.logger import setup_logger\n",
        "setup_logger()\n",
        "\n",
        "# import some common libraries\n",
        "import numpy as np\n",
        "import cv2\n",
        "import random\n",
        "from google.colab.patches import cv2_imshow\n",
        "\n",
        "# import some common detectron2 utilities\n",
        "from detectron2 import model_zoo\n",
        "from detectron2.engine import DefaultPredictor\n",
        "from detectron2.config import get_cfg\n",
        "from detectron2.utils.visualizer import Visualizer\n",
        "from detectron2.data import MetadataCatalog"
      ],
      "execution_count": null,
      "outputs": []
    },
    {
      "cell_type": "markdown",
      "metadata": {
        "id": "b2bjrfb2LDeo",
        "colab_type": "text"
      },
      "source": [
        "# Train on a custom coco dataset\n",
        "\n",
        "Copy a .7z file and extract its contents.\n",
        "\n",
        "The datastructure should be like this:\n",
        " - some_name.7z\n",
        "  - train\n",
        "    - image1.png\n",
        "    - lksjfdl.png\n",
        "    - ...\n",
        "    - train.json\n",
        "  - test\n",
        "    - test1.png\n",
        "    - lksdjfl.png\n",
        "    - ...\n",
        "    - test.json"
      ]
    },
    {
      "cell_type": "code",
      "metadata": {
        "id": "UIpcAq0PYUVT",
        "colab_type": "code",
        "colab": {},
        "cellView": "form"
      },
      "source": [
        "#@title copy to local storage and extract\n",
        "!cp -r '/content/drive/My Drive/dataset.7z' /content/dataset.7z\n",
        "%cd /content/\n",
        "!7z x /content/dataset.7z -oc:/content/"
      ],
      "execution_count": null,
      "outputs": []
    },
    {
      "cell_type": "markdown",
      "metadata": {
        "id": "wlqXIXXhW8dA",
        "colab_type": "text"
      },
      "source": [
        "## Train config\n"
      ]
    },
    {
      "cell_type": "code",
      "metadata": {
        "id": "PIbAM2pv-urF",
        "colab_type": "code",
        "cellView": "form",
        "colab": {}
      },
      "source": [
        "#@title Register dataset\n",
        "from detectron2.data.datasets import register_coco_instances\n",
        "register_coco_instances(\"my_dataset_train2\", {}, \"/content/train/train.json\", \"/content/train\")\n",
        "register_coco_instances(\"my_dataset_val2\", {}, \"/content/drive/My Drive/test/test.json\", \"/content/drive/My Drive/test\")"
      ],
      "execution_count": null,
      "outputs": []
    },
    {
      "cell_type": "code",
      "metadata": {
        "id": "hBXeH8UXFcqU",
        "colab_type": "code",
        "cellView": "form",
        "colab": {}
      },
      "source": [
        "#@title Activate tensorboard\n",
        "# Look at training curves in tensorboard:\n",
        "%load_ext tensorboard\n",
        "%tensorboard --logdir \"/content/drive/My Drive/detectron2\""
      ],
      "execution_count": null,
      "outputs": []
    },
    {
      "cell_type": "code",
      "metadata": {
        "id": "7unkuuiqLdqd",
        "colab_type": "code",
        "cellView": "form",
        "colab": {}
      },
      "source": [
        "#@title (detectron2) mask_rcnn_X_101_32x8d_FPN_3x.yaml\n",
        "import os\n",
        "import numpy as np\n",
        "import json\n",
        "from detectron2.structures import BoxMode\n",
        "from detectron2.engine import DefaultTrainer\n",
        "from detectron2.config import get_cfg\n",
        "\n",
        "cfg = get_cfg()\n",
        "\n",
        "os.makedirs(cfg.OUTPUT_DIR, exist_ok=True)\n",
        "\n",
        "cfg.merge_from_file(\"/content/detectron2/configs/COCO-InstanceSegmentation/mask_rcnn_X_101_32x8d_FPN_3x.yaml\")\n",
        "\n",
        "cfg.DATASETS.TRAIN = (\"my_dataset_train2\",)\n",
        "cfg.DATASETS.TEST = (\"my_dataset_val2\",)\n",
        "cfg.DATALOADER.NUM_WORKERS = 2\n",
        "\n",
        "cfg.MODEL.WEIGHTS = (\"/content/detectron2/configs/COCO-InstanceSegmentation/mask_rcnn_X_101_32x8d_FPN_3x.yaml\")\n",
        "\n",
        "cfg.INPUT.MAX_SIZE_TEST = 1700\n",
        "cfg.INPUT.MAX_SIZE_TRAIN = 1700\n",
        "cfg.SOLVER.IMS_PER_BATCH = 2   # increase this for more speed, but it will need more vram\n",
        "cfg.SOLVER.BASE_LR = 0.00025  # pick a good LR\n",
        "#cfg.SOLVER.BASE_LR = 0.000001  # pick a good LR /content/detectron2/configs/COCO-InstanceSegmentation/mask_rcnn_R_101_FPN_3x.yaml\n",
        "cfg.SOLVER.MAX_ITER = 500000    # 300 iterations seems good enough for this toy dataset; you may need to train longer for a practical dataset\n",
        "cfg.MODEL.ROI_HEADS.BATCH_SIZE_PER_IMAGE = 4096   # or 128 for example\n",
        "cfg.MODEL.ROI_HEADS.NUM_CLASSES = 2  # only has one class (ballon)\n",
        "#cfg.SNAPSHOT_ITERS = 50 # when checkpoint gets created\n",
        "cfg.SOLVER.CHECKPOINT_PERIOD = 5000\n",
        "\n",
        "cfg.OUTPUT_DIR = \"/content/drive/My Drive/detectron2\"\n",
        "trainer = DefaultTrainer(cfg) \n",
        "#trainer.resume_or_load(resume=True)\n",
        "trainer.train()"
      ],
      "execution_count": null,
      "outputs": []
    },
    {
      "cell_type": "code",
      "metadata": {
        "colab_type": "code",
        "id": "Es9qFt5LJnC3",
        "cellView": "form",
        "colab": {}
      },
      "source": [
        "#@title (detectron2-ResNeSt) mask_cascade_rcnn_R_50_FPN_syncbn_1x.yaml\n",
        "\n",
        "import os\n",
        "import numpy as np\n",
        "import json\n",
        "from detectron2.structures import BoxMode\n",
        "from detectron2.engine import DefaultTrainer\n",
        "from detectron2.config import get_cfg\n",
        "\n",
        "cfg = get_cfg()\n",
        "cfg.OUTPUT_DIR = '/content/drive/My Drive/detectron2'\n",
        "os.makedirs(cfg.OUTPUT_DIR, exist_ok=True)\n",
        "\n",
        "cfg.merge_from_file(\"/content/detectron2-ResNeSt/configs/COCO-InstanceSegmentation/mask_cascade_rcnn_R_50_FPN_syncbn_1x.yaml\")\n",
        "\n",
        "cfg.DATASETS.TRAIN = (\"my_dataset_train2\",)\n",
        "cfg.DATASETS.TEST = (\"my_dataset_val2\",)\n",
        "cfg.DATALOADER.NUM_WORKERS = 2\n",
        "\n",
        "cfg.MODEL.WEIGHTS = (\"/content/detectron2-ResNeSt/configs/COCO-InstanceSegmentation/mask_cascade_rcnn_R_50_FPN_syncbn_1x.yaml\")\n",
        "\n",
        "#1700x1700 ims_per_batch 2 max_mem: 12522M\n",
        "#1800x1800 ims_per_batch 2 max_mem: 13303M\n",
        "#3000x3000 ims_per_batch 1 max_mem: 7989M\n",
        "cfg.INPUT.MAX_SIZE_TEST = 3000\n",
        "cfg.INPUT.MAX_SIZE_TRAIN = 3000\n",
        "cfg.SOLVER.IMS_PER_BATCH = 1   # increase this for more speed, but it will need more vram\n",
        "cfg.SOLVER.BASE_LR = 0.00025  # pick a good LR\n",
        "\n",
        "cfg.SOLVER.MAX_ITER = 500000    # 300 iterations seems good enough for this toy dataset; you may need to train longer for a practical dataset\n",
        "cfg.MODEL.ROI_HEADS.BATCH_SIZE_PER_IMAGE = 4096   # or 128 for example\n",
        "cfg.MODEL.ROI_HEADS.NUM_CLASSES = 2  # only has one class (ballon)\n",
        "#cfg.SNAPSHOT_ITERS = 50 # when checkpoint gets created\n",
        "cfg.SOLVER.CHECKPOINT_PERIOD = 5000\n",
        "\n",
        "trainer = DefaultTrainer(cfg) \n",
        "#trainer.resume_or_load(resume=True)\n",
        "trainer.train()"
      ],
      "execution_count": null,
      "outputs": []
    },
    {
      "cell_type": "code",
      "metadata": {
        "id": "hqkpyPJUssUL",
        "colab_type": "code",
        "colab": {},
        "cellView": "form"
      },
      "source": [
        "#@title (detectron2-ResNeSt) mask_cascade_rcnn_R_101_FPN_syncbn_1x.yaml\n",
        "\n",
        "import os\n",
        "import numpy as np\n",
        "import json\n",
        "from detectron2.structures import BoxMode\n",
        "from detectron2.engine import DefaultTrainer\n",
        "from detectron2.config import get_cfg\n",
        "\n",
        "cfg = get_cfg()\n",
        "cfg.OUTPUT_DIR = '/content/drive/My Drive/detectron2'\n",
        "os.makedirs(cfg.OUTPUT_DIR, exist_ok=True)\n",
        "\n",
        "cfg.merge_from_file(\"/content/detectron2-ResNeSt/configs/COCO-InstanceSegmentation/mask_cascade_rcnn_R_101_FPN_syncbn_1x.yaml\")\n",
        "\n",
        "cfg.DATASETS.TRAIN = (\"my_dataset_train2\",)\n",
        "cfg.DATASETS.TEST = (\"my_dataset_val2\",)\n",
        "cfg.DATALOADER.NUM_WORKERS = 2\n",
        "\n",
        "cfg.MODEL.WEIGHTS = (\"/content/detectron2-ResNeSt/configs/COCO-InstanceSegmentation/mask_cascade_rcnn_R_101_FPN_syncbn_1x.yaml\")\n",
        "\n",
        "#1900x1900 ims_per_batch = 1 max_mem: 7539M\n",
        "#2500x2500 ims_per_batch = 1 max_mem: 9193M\n",
        "#3000x3000 ims_per_batch = 1 max_mem: 9236M\n",
        "cfg.INPUT.MAX_SIZE_TEST = 3000\n",
        "cfg.INPUT.MAX_SIZE_TRAIN = 3000\n",
        "cfg.SOLVER.IMS_PER_BATCH = 1   # increase this for more speed, but it will need more vram\n",
        "cfg.SOLVER.BASE_LR = 0.00025  # pick a good LR\n",
        "\n",
        "cfg.SOLVER.MAX_ITER = 500000    # 300 iterations seems good enough for this toy dataset; you may need to train longer for a practical dataset\n",
        "cfg.MODEL.ROI_HEADS.BATCH_SIZE_PER_IMAGE = 4096   # or 128 for example\n",
        "cfg.MODEL.ROI_HEADS.NUM_CLASSES = 2  # only has one class (ballon)\n",
        "#cfg.SNAPSHOT_ITERS = 50 # when checkpoint gets created\n",
        "cfg.SOLVER.CHECKPOINT_PERIOD = 5000\n",
        "\n",
        "trainer = DefaultTrainer(cfg) \n",
        "#trainer.resume_or_load(resume=True)\n",
        "trainer.train()"
      ],
      "execution_count": null,
      "outputs": []
    },
    {
      "cell_type": "code",
      "metadata": {
        "id": "xwJUcmnVAzhK",
        "colab_type": "code",
        "colab": {},
        "cellView": "form"
      },
      "source": [
        "#@title restart kernel if something goes wrong\n",
        "import os\n",
        "os._exit(00)"
      ],
      "execution_count": null,
      "outputs": []
    },
    {
      "cell_type": "markdown",
      "metadata": {
        "id": "0e4vdDIOXyxF",
        "colab_type": "text"
      },
      "source": [
        "## Run tests with model\n",
        "\n"
      ]
    },
    {
      "cell_type": "code",
      "metadata": {
        "id": "Ya5nEuMELeq8",
        "colab_type": "code",
        "colab": {},
        "cellView": "form"
      },
      "source": [
        "#@title load model\n",
        "cfg.MODEL.WEIGHTS = '/content/drive/My Drive/model_0139999.pth'\n",
        "cfg.MODEL.ROI_HEADS.SCORE_THRESH_TEST = 0.30   # set the testing threshold for this model\n",
        "cfg.DATASETS.TEST = (\"my_dataset_val2\", )\n",
        "predictor = DefaultPredictor(cfg)"
      ],
      "execution_count": null,
      "outputs": []
    },
    {
      "cell_type": "code",
      "metadata": {
        "id": "U5LhISJqWXgM",
        "colab_type": "code",
        "colab": {},
        "cellView": "form"
      },
      "source": [
        "#@title do detection and display result\n",
        "from detectron2.utils.visualizer import ColorMode\n",
        "balloon_metadata = MetadataCatalog.get(\"my_dataset_train2\")\n",
        "\n",
        "im = cv2.imread(\"/content/picture.jpg\")\n",
        "outputs = predictor(im)\n",
        "v = Visualizer(im[:, :, ::-1],\n",
        "                metadata=balloon_metadata, \n",
        "                scale=0.5, \n",
        "                instance_mode=ColorMode.IMAGE_BW   # remove the colors of unsegmented pixels. This option is only available for segmentation models\n",
        ")\n",
        "v = v.draw_instance_predictions(outputs[\"instances\"].to(\"cpu\"))\n",
        "cv2_imshow(v.get_image()[:, :, ::-1])"
      ],
      "execution_count": null,
      "outputs": []
    },
    {
      "cell_type": "code",
      "metadata": {
        "id": "h9tECBQCvMv3",
        "colab_type": "code",
        "colab": {},
        "cellView": "form"
      },
      "source": [
        "#@title AP metric\n",
        "from detectron2.evaluation import COCOEvaluator, inference_on_dataset\n",
        "from detectron2.data import build_detection_test_loader\n",
        "evaluator = COCOEvaluator(\"my_dataset_val2\", cfg, False, output_dir=\"./output/\")\n",
        "val_loader = build_detection_test_loader(cfg, \"my_dataset_val2\")\n",
        "inference_on_dataset(trainer.model, val_loader, evaluator)\n",
        "# another equivalent way is to use trainer.test"
      ],
      "execution_count": null,
      "outputs": []
    }
  ]
}
